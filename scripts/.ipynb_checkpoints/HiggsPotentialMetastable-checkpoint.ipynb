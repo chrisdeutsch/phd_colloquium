{
 "cells": [
  {
   "cell_type": "code",
   "execution_count": 1,
   "id": "785dbb67-595d-4042-a70c-3e1bbd285227",
   "metadata": {},
   "outputs": [],
   "source": [
    "import numpy as np\n",
    "import sympy as sp\n",
    "import matplotlib.pyplot as plt\n",
    "import seaborn as sns\n",
    "\n",
    "sns.set_style(\"ticks\")"
   ]
  },
  {
   "cell_type": "markdown",
   "id": "809111bd-b3ef-43a9-9e84-cc63043f0522",
   "metadata": {},
   "source": [
    "# SM Potential"
   ]
  },
  {
   "cell_type": "code",
   "execution_count": 2,
   "id": "730849bd-a7c7-46e9-9523-d2b8448a7d5d",
   "metadata": {},
   "outputs": [
    {
     "data": {
      "text/latex": [
       "$\\displaystyle \\phi^{4} - \\phi^{2}$"
      ],
      "text/plain": [
       "phi**4 - phi**2"
      ]
     },
     "execution_count": 2,
     "metadata": {},
     "output_type": "execute_result"
    }
   ],
   "source": [
    "phi = sp.symbols(\"phi\", positive=True)\n",
    "V = -phi**2 + phi**4\n",
    "V"
   ]
  },
  {
   "cell_type": "code",
   "execution_count": 3,
   "id": "d0edc218-f2f2-4cf5-bf18-88cf8375f12e",
   "metadata": {},
   "outputs": [],
   "source": [
    "d1 = sp.diff(V, phi, 1)\n",
    "d2 = sp.diff(V, phi, 2)\n",
    "d3 = sp.diff(V, phi, 3)"
   ]
  },
  {
   "cell_type": "code",
   "execution_count": 4,
   "id": "ed552198-2d9b-4605-9228-92bc71838ae2",
   "metadata": {},
   "outputs": [
    {
     "data": {
      "text/latex": [
       "$\\displaystyle \\frac{\\sqrt{2}}{2}$"
      ],
      "text/plain": [
       "sqrt(2)/2"
      ]
     },
     "execution_count": 4,
     "metadata": {},
     "output_type": "execute_result"
    }
   ],
   "source": [
    "phi_min, = sp.solve(d1, phi)\n",
    "phi_min"
   ]
  },
  {
   "cell_type": "markdown",
   "id": "d7432337-746b-4a42-9796-850f76c507a5",
   "metadata": {},
   "source": [
    "# Alternative Potential"
   ]
  },
  {
   "cell_type": "code",
   "execution_count": 5,
   "id": "a4a53887-90c6-4178-8ebb-5e6741202ff6",
   "metadata": {},
   "outputs": [
    {
     "data": {
      "text/latex": [
       "$\\displaystyle a \\phi^{2} + b \\phi^{4} + c \\phi^{6}$"
      ],
      "text/plain": [
       "a*phi**2 + b*phi**4 + c*phi**6"
      ]
     },
     "execution_count": 5,
     "metadata": {},
     "output_type": "execute_result"
    }
   ],
   "source": [
    "a, b, c = sp.symbols(\"a b c\", real=True)\n",
    "V_alt = a * phi**2 + b * phi**4 + c * phi**6\n",
    "V_alt"
   ]
  },
  {
   "cell_type": "code",
   "execution_count": 6,
   "id": "070408fa-ac18-4182-95da-7f66d38441f8",
   "metadata": {},
   "outputs": [],
   "source": [
    "d1_alt = sp.diff(V_alt, phi, 1)\n",
    "d2_alt = sp.diff(V_alt, phi, 2)\n",
    "d3_alt = sp.diff(V_alt, phi, 3)"
   ]
  },
  {
   "cell_type": "code",
   "execution_count": 7,
   "id": "62b5781c-e3d6-4e69-b5e7-78f5bd09b896",
   "metadata": {},
   "outputs": [],
   "source": [
    "eq1 = sp.Eq(d1_alt.subs({phi: phi_min}), 0)\n",
    "eq2 = sp.Eq(d2_alt.subs({phi: phi_min}), d2.subs({phi: phi_min}))"
   ]
  },
  {
   "cell_type": "code",
   "execution_count": 8,
   "id": "1e3009c6-a273-414f-806a-df46eb86ae99",
   "metadata": {},
   "outputs": [
    {
     "data": {
      "text/latex": [
       "$\\displaystyle c \\phi^{6} + \\phi^{4} \\cdot \\left(1 - \\frac{3 c}{2}\\right) + \\phi^{2} \\cdot \\left(\\frac{3 c}{4} - 1\\right)$"
      ],
      "text/plain": [
       "c*phi**6 + phi**4*(1 - 3*c/2) + phi**2*(3*c/4 - 1)"
      ]
     },
     "execution_count": 8,
     "metadata": {},
     "output_type": "execute_result"
    }
   ],
   "source": [
    "V_alt = V_alt.subs(sp.solve([eq1, eq2], a, b))\n",
    "V_alt"
   ]
  },
  {
   "cell_type": "markdown",
   "id": "181c72ab-5b28-465d-b5b9-627404ab7138",
   "metadata": {},
   "source": [
    "# Series expansion about vacuum state"
   ]
  },
  {
   "cell_type": "code",
   "execution_count": 9,
   "id": "cbabad28-7052-4ffa-9e90-8da7286bc10e",
   "metadata": {},
   "outputs": [],
   "source": [
    "h = sp.symbols(\"h\", real=True)"
   ]
  },
  {
   "cell_type": "code",
   "execution_count": 10,
   "id": "1612f2e7-7375-45d9-aed0-8d130092d10b",
   "metadata": {},
   "outputs": [
    {
     "data": {
      "text/latex": [
       "$\\displaystyle h^{4} + 2 \\sqrt{2} h^{3} + 2 h^{2} - \\frac{1}{4}$"
      ],
      "text/plain": [
       "h**4 + 2*sqrt(2)*h**3 + 2*h**2 - 1/4"
      ]
     },
     "execution_count": 10,
     "metadata": {},
     "output_type": "execute_result"
    }
   ],
   "source": [
    "sp.series(V.subs({phi: phi_min + h}), h, n=5)"
   ]
  },
  {
   "cell_type": "code",
   "execution_count": 11,
   "id": "4e4e5e39-8926-42c3-b98c-6d5aa3eefe9d",
   "metadata": {},
   "outputs": [
    {
     "data": {
      "text/latex": [
       "$\\displaystyle -0.1875 + 2.0 h^{2} + 3.0 \\sqrt{2} h^{3} + 4.0 h^{4} + O\\left(h^{5}\\right)$"
      ],
      "text/plain": [
       "-0.1875 + 2.0*h**2 + 3.0*sqrt(2)*h**3 + 4.0*h**4 + O(h**5)"
      ]
     },
     "execution_count": 11,
     "metadata": {},
     "output_type": "execute_result"
    }
   ],
   "source": [
    "sp.series(V_alt.subs({phi: phi_min + h, c: 0.5}), h, n=5)"
   ]
  },
  {
   "cell_type": "code",
   "execution_count": 12,
   "id": "8b258d69-e73a-4acf-82ae-b0c99273b293",
   "metadata": {},
   "outputs": [
    {
     "data": {
      "text/latex": [
       "$\\displaystyle -0.3125 + 2.0 h^{2} + 1.0 \\sqrt{2} h^{3} - 2.0 h^{4} + O\\left(h^{5}\\right)$"
      ],
      "text/plain": [
       "-0.3125 + 2.0*h**2 + 1.0*sqrt(2)*h**3 - 2.0*h**4 + O(h**5)"
      ]
     },
     "execution_count": 12,
     "metadata": {},
     "output_type": "execute_result"
    }
   ],
   "source": [
    "sp.series(V_alt.subs({phi: phi_min + h, c: -0.5}), h, n=5)"
   ]
  },
  {
   "cell_type": "code",
   "execution_count": 13,
   "id": "1c71208c-22bb-41d3-88ff-5b63d96643d6",
   "metadata": {},
   "outputs": [
    {
     "data": {
      "text/html": [
       "<svg  width=\"550\" height=\"55\"><rect x=\"0\" y=\"0\" width=\"55\" height=\"55\" style=\"fill:#1f77b4;stroke-width:2;stroke:rgb(255,255,255)\"/><rect x=\"55\" y=\"0\" width=\"55\" height=\"55\" style=\"fill:#ff7f0e;stroke-width:2;stroke:rgb(255,255,255)\"/><rect x=\"110\" y=\"0\" width=\"55\" height=\"55\" style=\"fill:#2ca02c;stroke-width:2;stroke:rgb(255,255,255)\"/><rect x=\"165\" y=\"0\" width=\"55\" height=\"55\" style=\"fill:#d62728;stroke-width:2;stroke:rgb(255,255,255)\"/><rect x=\"220\" y=\"0\" width=\"55\" height=\"55\" style=\"fill:#9467bd;stroke-width:2;stroke:rgb(255,255,255)\"/><rect x=\"275\" y=\"0\" width=\"55\" height=\"55\" style=\"fill:#8c564b;stroke-width:2;stroke:rgb(255,255,255)\"/><rect x=\"330\" y=\"0\" width=\"55\" height=\"55\" style=\"fill:#e377c2;stroke-width:2;stroke:rgb(255,255,255)\"/><rect x=\"385\" y=\"0\" width=\"55\" height=\"55\" style=\"fill:#7f7f7f;stroke-width:2;stroke:rgb(255,255,255)\"/><rect x=\"440\" y=\"0\" width=\"55\" height=\"55\" style=\"fill:#bcbd22;stroke-width:2;stroke:rgb(255,255,255)\"/><rect x=\"495\" y=\"0\" width=\"55\" height=\"55\" style=\"fill:#17becf;stroke-width:2;stroke:rgb(255,255,255)\"/></svg>"
      ],
      "text/plain": [
       "[(0.12156862745098039, 0.4666666666666667, 0.7058823529411765),\n",
       " (1.0, 0.4980392156862745, 0.054901960784313725),\n",
       " (0.17254901960784313, 0.6274509803921569, 0.17254901960784313),\n",
       " (0.8392156862745098, 0.15294117647058825, 0.1568627450980392),\n",
       " (0.5803921568627451, 0.403921568627451, 0.7411764705882353),\n",
       " (0.5490196078431373, 0.33725490196078434, 0.29411764705882354),\n",
       " (0.8901960784313725, 0.4666666666666667, 0.7607843137254902),\n",
       " (0.4980392156862745, 0.4980392156862745, 0.4980392156862745),\n",
       " (0.7372549019607844, 0.7411764705882353, 0.13333333333333333),\n",
       " (0.09019607843137255, 0.7450980392156863, 0.8117647058823529)]"
      ]
     },
     "execution_count": 13,
     "metadata": {},
     "output_type": "execute_result"
    }
   ],
   "source": [
    "palette = sns.color_palette()\n",
    "palette"
   ]
  },
  {
   "cell_type": "code",
   "execution_count": 14,
   "id": "fa0401dd-df70-4e24-8ab6-d54c0a24ea17",
   "metadata": {},
   "outputs": [
    {
     "data": {
      "image/png": "[encoded data removed]",
      "text/plain": [
       "<Figure size 400x300 with 1 Axes>"
      ]
     },
     "metadata": {},
     "output_type": "display_data"
    }
   ],
   "source": [
    "x = np.linspace(0, 1.9)\n",
    "f = sp.lambdify(phi, V)\n",
    "f_alt_1 = sp.lambdify(phi, V_alt.subs({c: 0.5}))\n",
    "f_alt_2 = sp.lambdify(phi, V_alt.subs({c: -0.5}))\n",
    "\n",
    "fig, ax = plt.subplots(figsize=(4, 3))\n",
    "fig.set_tight_layout(True)\n",
    "sns.despine(fig)\n",
    "\n",
    "ax.set_ylim(0, 0.65)\n",
    "ax.set_xlim(0, 1.9)\n",
    "ax.set_ylabel(r\"$V(\\phi)$\")\n",
    "ax.set_xlabel(r\"$\\phi$\")\n",
    "\n",
    "ax.set_xticks([0, 1])\n",
    "ax.set_xticklabels([\"0\", r\"$v$\"])\n",
    "\n",
    "ax.set_yticks([0])\n",
    "\n",
    "l1, = ax.plot(x, f_alt_1(x * phi_min) - f_alt_1(phi_min), ls=\"--\", c=palette[3], label=r\"$\\lambda_{HHH} > \\lambda_{HHH}^{\\mathrm{SM}}$\")\n",
    "l2, = ax.plot(x, f_alt_2(x * phi_min) - f_alt_2(phi_min), ls=\"--\", c=palette[2], label=r\"$\\lambda_{HHH} < \\lambda_{HHH}^{\\mathrm{SM}}$\")\n",
    "l3, = ax.plot(x, f(x * phi_min) - f(phi_min), c=palette[0], label=r\"$\\lambda_{HHH}^{\\mathrm{SM}}$\")\n",
    "\n",
    "ax.legend(handles=[l1, l3, l2], frameon=False)\n",
    "fig.savefig(\"higgs_potential_variation.pdf\")"
   ]
  },
  {
   "cell_type": "code",
   "execution_count": 15,
   "id": "76719bf8-bd36-4cd9-b74c-6c76ab1f9ebc",
   "metadata": {},
   "outputs": [
    {
     "data": {
      "text/latex": [
       "$\\displaystyle 18.0 \\sqrt{2}$"
      ],
      "text/plain": [
       "18.0*sqrt(2)"
      ]
     },
     "execution_count": 15,
     "metadata": {},
     "output_type": "execute_result"
    }
   ],
   "source": [
    "sp.diff(V_alt, phi, 3).subs({phi: phi_min, c: 0.5})"
   ]
  },
  {
   "cell_type": "code",
   "execution_count": 16,
   "id": "95b9823c-51cb-4b05-aeb3-ed5de3e741ef",
   "metadata": {},
   "outputs": [
    {
     "data": {
      "text/latex": [
       "$\\displaystyle 12 \\sqrt{2}$"
      ],
      "text/plain": [
       "12*sqrt(2)"
      ]
     },
     "execution_count": 16,
     "metadata": {},
     "output_type": "execute_result"
    }
   ],
   "source": [
    "sp.diff(V_alt, phi, 3).subs({phi: phi_min, c: 0})"
   ]
  },
  {
   "cell_type": "code",
   "execution_count": 17,
   "id": "424f3f7f-154e-4f02-b59b-9fef6a5bb162",
   "metadata": {},
   "outputs": [
    {
     "data": {
      "text/latex": [
       "$\\displaystyle 6.0 \\sqrt{2}$"
      ],
      "text/plain": [
       "6.0*sqrt(2)"
      ]
     },
     "execution_count": 17,
     "metadata": {},
     "output_type": "execute_result"
    }
   ],
   "source": [
    "sp.diff(V_alt, phi, 3).subs({phi: phi_min, c: -0.5})"
   ]
  },
  {
   "cell_type": "code",
   "execution_count": null,
   "id": "ce11c345-a791-41e9-b2b1-339c97295f09",
   "metadata": {},
   "outputs": [],
   "source": []
  }
 ],
 "metadata": {
  "kernelspec": {
   "display_name": "Python 3 (ipykernel)",
   "language": "python",
   "name": "python3"
  },
  "language_info": {
   "codemirror_mode": {
    "name": "ipython",
    "version": 3
   },
   "file_extension": ".py",
   "mimetype": "text/x-python",
   "name": "python",
   "nbconvert_exporter": "python",
   "pygments_lexer": "ipython3",
   "version": "3.11.5"
  }
 },
 "nbformat": 4,
 "nbformat_minor": 5
}
